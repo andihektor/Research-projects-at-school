{
 "cells": [
  {
   "cell_type": "markdown",
   "metadata": {},
   "source": [
    "The purpose of the code is to divide the large data file to the seven subsets, where the subsets have the elements (0,7,14,...), (1,8,15,...), (2,9,16,..) and so on."
   ]
  },
  {
   "cell_type": "code",
   "execution_count": 1,
   "metadata": {
    "collapsed": true
   },
   "outputs": [],
   "source": [
    "import pandas as pd # powerful Python data analysis toolkit\n",
    "import numpy as np # numberical calculations\n",
    "import matplotlib as plt # figures\n",
    "import astropy as ast # tools for astromomy\n",
    "from astropy import units as u\n",
    "from astropy.coordinates import SkyCoord"
   ]
  },
  {
   "cell_type": "code",
   "execution_count": 2,
   "metadata": {
    "collapsed": true
   },
   "outputs": [],
   "source": [
    "# Reading the dataset into a dataframe\n",
    "data_all = pd.read_csv(\"../data/TGAS_2MASS_ALLWISE_TYC2.csv\")"
   ]
  },
  {
   "cell_type": "code",
   "execution_count": 3,
   "metadata": {
    "collapsed": false
   },
   "outputs": [
    {
     "data": {
      "text/plain": [
       "1967959"
      ]
     },
     "execution_count": 3,
     "metadata": {},
     "output_type": "execute_result"
    }
   ],
   "source": [
    "len(data_all)"
   ]
  },
  {
   "cell_type": "code",
   "execution_count": 4,
   "metadata": {
    "collapsed": false
   },
   "outputs": [],
   "source": [
    "# Converting the dec, ra to the Galactic coordinates\n",
    "data_galactic_coord = SkyCoord(data_all.loc[:]['ra'].values, data_all.loc[:]['dec'].values, frame='icrs', unit='deg').galactic"
   ]
  },
  {
   "cell_type": "code",
   "execution_count": 35,
   "metadata": {
    "collapsed": false
   },
   "outputs": [],
   "source": [
    "# Constructing the new dataframe with the Galactic coordinates\n",
    "data_all_gal = data_all.copy()\n",
    "data_all_gal.rename(columns={'ra': 'b', 'dec': 'l'}, inplace=True)\n",
    "data_all_gal['b'] = data_galactic_coord.b.degree\n",
    "data_all_gal['l'] = data_galactic_coord.l.degree"
   ]
  },
  {
   "cell_type": "code",
   "execution_count": 48,
   "metadata": {
    "collapsed": false
   },
   "outputs": [],
   "source": [
    "# For testing: comparing the original and new data frames\n",
    "#data_all[:3]\n",
    "#data_all_gal[:3]"
   ]
  },
  {
   "cell_type": "code",
   "execution_count": 39,
   "metadata": {
    "collapsed": false
   },
   "outputs": [],
   "source": [
    "# Splitting of the large data set to the 7 subsets\n",
    "data_subs=[]\n",
    "for n in range(0,7):\n",
    "    data_subs.append(data_all_gal[n::7])"
   ]
  },
  {
   "cell_type": "code",
   "execution_count": 47,
   "metadata": {
    "collapsed": false
   },
   "outputs": [],
   "source": [
    "# For testing\n",
    "#data_subs[0].head(3)\n",
    "#data_subs[1].head(3)"
   ]
  },
  {
   "cell_type": "code",
   "execution_count": 43,
   "metadata": {
    "collapsed": false
   },
   "outputs": [],
   "source": [
    "# Saving the subsets\n",
    "for n in range(0,7):\n",
    "    data_subs[n].to_pickle('subdata-'+str(n)+'.pkl.gz',compression=\"gzip\")"
   ]
  },
  {
   "cell_type": "code",
   "execution_count": 45,
   "metadata": {
    "collapsed": true
   },
   "outputs": [],
   "source": [
    "# For testing: reading the data files\n",
    "#test0 = pd.read_pickle(\"subdata-0.pkl.gz\", compression=\"gzip\")\n",
    "#test0.head(10)"
   ]
  }
 ],
 "metadata": {
  "kernelspec": {
   "display_name": "Python 3",
   "language": "python",
   "name": "python3"
  },
  "language_info": {
   "codemirror_mode": {
    "name": "ipython",
    "version": 3
   },
   "file_extension": ".py",
   "mimetype": "text/x-python",
   "name": "python",
   "nbconvert_exporter": "python",
   "pygments_lexer": "ipython3",
   "version": "3.6.3"
  }
 },
 "nbformat": 4,
 "nbformat_minor": 1
}
