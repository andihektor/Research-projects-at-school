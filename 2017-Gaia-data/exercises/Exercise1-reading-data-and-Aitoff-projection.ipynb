{
 "cells": [
  {
   "cell_type": "code",
   "execution_count": 1,
   "metadata": {
    "collapsed": false
   },
   "outputs": [],
   "source": [
    "import pandas as pd # powerful Python data analysis toolkit\n",
    "import numpy as np # numberical calculations\n",
    "import matplotlib as plt # figures"
   ]
  },
  {
   "cell_type": "code",
   "execution_count": 2,
   "metadata": {
    "collapsed": true
   },
   "outputs": [],
   "source": [
    "import matplotlib.pyplot as plt # for a pythnon 3 bug"
   ]
  },
  {
   "cell_type": "code",
   "execution_count": 3,
   "metadata": {
    "collapsed": false
   },
   "outputs": [],
   "source": [
    "import astropy as ast # tools for astromomy\n",
    "from astropy import units as u\n",
    "from astropy.coordinates import SkyCoord"
   ]
  },
  {
   "cell_type": "code",
   "execution_count": 4,
   "metadata": {
    "collapsed": false
   },
   "outputs": [],
   "source": [
    "# Reading the dataset into a dataframe (using Pandas)\n",
    "data_all = pd.read_csv(\"../data/TGAS_2MASS_ALLWISE_TYC2.csv\")"
   ]
  },
  {
   "cell_type": "code",
   "execution_count": 5,
   "metadata": {
    "collapsed": false
   },
   "outputs": [
    {
     "data": {
      "text/html": [
       "<div>\n",
       "<style scoped>\n",
       "    .dataframe tbody tr th:only-of-type {\n",
       "        vertical-align: middle;\n",
       "    }\n",
       "\n",
       "    .dataframe tbody tr th {\n",
       "        vertical-align: top;\n",
       "    }\n",
       "\n",
       "    .dataframe thead th {\n",
       "        text-align: right;\n",
       "    }\n",
       "</style>\n",
       "<table border=\"1\" class=\"dataframe\">\n",
       "  <thead>\n",
       "    <tr style=\"text-align: right;\">\n",
       "      <th></th>\n",
       "      <th>ra</th>\n",
       "      <th>dec</th>\n",
       "      <th>hip</th>\n",
       "      <th>duplicated_source</th>\n",
       "      <th>matched_observations</th>\n",
       "      <th>parallax</th>\n",
       "      <th>parallax_error</th>\n",
       "      <th>phot_g_mean_mag</th>\n",
       "      <th>phot_g_n_obs</th>\n",
       "      <th>pmdec</th>\n",
       "      <th>...</th>\n",
       "      <th>e_W2mag</th>\n",
       "      <th>e_W3mag</th>\n",
       "      <th>e_W4mag</th>\n",
       "      <th>nameccf</th>\n",
       "      <th>nameex</th>\n",
       "      <th>nameqph</th>\n",
       "      <th>BTmag</th>\n",
       "      <th>VTmag</th>\n",
       "      <th>ra2000</th>\n",
       "      <th>de2000</th>\n",
       "    </tr>\n",
       "  </thead>\n",
       "  <tbody>\n",
       "    <tr>\n",
       "      <th>0</th>\n",
       "      <td>210.007926</td>\n",
       "      <td>-52.321415</td>\n",
       "      <td>-99999.0</td>\n",
       "      <td>0</td>\n",
       "      <td>10</td>\n",
       "      <td>0.62</td>\n",
       "      <td>0.45</td>\n",
       "      <td>11.530</td>\n",
       "      <td>85</td>\n",
       "      <td>-2.449</td>\n",
       "      <td>...</td>\n",
       "      <td>0.022</td>\n",
       "      <td>0.084</td>\n",
       "      <td>0.483</td>\n",
       "      <td>0000</td>\n",
       "      <td>0</td>\n",
       "      <td>AAAC</td>\n",
       "      <td>11.961</td>\n",
       "      <td>11.736</td>\n",
       "      <td>210.007910</td>\n",
       "      <td>-52.321405</td>\n",
       "    </tr>\n",
       "    <tr>\n",
       "      <th>1</th>\n",
       "      <td>209.471668</td>\n",
       "      <td>-52.479936</td>\n",
       "      <td>-99999.0</td>\n",
       "      <td>0</td>\n",
       "      <td>11</td>\n",
       "      <td>1.66</td>\n",
       "      <td>0.42</td>\n",
       "      <td>11.541</td>\n",
       "      <td>92</td>\n",
       "      <td>-7.784</td>\n",
       "      <td>...</td>\n",
       "      <td>0.020</td>\n",
       "      <td>0.041</td>\n",
       "      <td>0.342</td>\n",
       "      <td>0000</td>\n",
       "      <td>0</td>\n",
       "      <td>AAAB</td>\n",
       "      <td>12.626</td>\n",
       "      <td>11.998</td>\n",
       "      <td>209.471612</td>\n",
       "      <td>-52.479904</td>\n",
       "    </tr>\n",
       "    <tr>\n",
       "      <th>2</th>\n",
       "      <td>209.504802</td>\n",
       "      <td>-52.456972</td>\n",
       "      <td>-99999.0</td>\n",
       "      <td>0</td>\n",
       "      <td>10</td>\n",
       "      <td>3.05</td>\n",
       "      <td>0.49</td>\n",
       "      <td>11.460</td>\n",
       "      <td>85</td>\n",
       "      <td>-15.116</td>\n",
       "      <td>...</td>\n",
       "      <td>0.020</td>\n",
       "      <td>0.050</td>\n",
       "      <td>-99999.000</td>\n",
       "      <td>dd00</td>\n",
       "      <td>0</td>\n",
       "      <td>AAAU</td>\n",
       "      <td>12.489</td>\n",
       "      <td>11.668</td>\n",
       "      <td>209.504744</td>\n",
       "      <td>-52.456909</td>\n",
       "    </tr>\n",
       "    <tr>\n",
       "      <th>3</th>\n",
       "      <td>209.619712</td>\n",
       "      <td>-52.369962</td>\n",
       "      <td>-99999.0</td>\n",
       "      <td>0</td>\n",
       "      <td>10</td>\n",
       "      <td>2.74</td>\n",
       "      <td>0.68</td>\n",
       "      <td>10.976</td>\n",
       "      <td>83</td>\n",
       "      <td>1.688</td>\n",
       "      <td>...</td>\n",
       "      <td>0.019</td>\n",
       "      <td>0.034</td>\n",
       "      <td>-99999.000</td>\n",
       "      <td>hh00</td>\n",
       "      <td>1</td>\n",
       "      <td>AAAU</td>\n",
       "      <td>11.717</td>\n",
       "      <td>11.125</td>\n",
       "      <td>209.619724</td>\n",
       "      <td>-52.369969</td>\n",
       "    </tr>\n",
       "    <tr>\n",
       "      <th>4</th>\n",
       "      <td>209.656638</td>\n",
       "      <td>-52.336321</td>\n",
       "      <td>-99999.0</td>\n",
       "      <td>0</td>\n",
       "      <td>11</td>\n",
       "      <td>3.11</td>\n",
       "      <td>0.97</td>\n",
       "      <td>11.619</td>\n",
       "      <td>95</td>\n",
       "      <td>-3.120</td>\n",
       "      <td>...</td>\n",
       "      <td>0.020</td>\n",
       "      <td>0.053</td>\n",
       "      <td>-99999.000</td>\n",
       "      <td>hh00</td>\n",
       "      <td>0</td>\n",
       "      <td>AAAU</td>\n",
       "      <td>12.322</td>\n",
       "      <td>11.894</td>\n",
       "      <td>209.656577</td>\n",
       "      <td>-52.336308</td>\n",
       "    </tr>\n",
       "    <tr>\n",
       "      <th>5</th>\n",
       "      <td>210.029672</td>\n",
       "      <td>-52.192119</td>\n",
       "      <td>-99999.0</td>\n",
       "      <td>0</td>\n",
       "      <td>12</td>\n",
       "      <td>0.04</td>\n",
       "      <td>0.79</td>\n",
       "      <td>11.220</td>\n",
       "      <td>107</td>\n",
       "      <td>-7.316</td>\n",
       "      <td>...</td>\n",
       "      <td>0.020</td>\n",
       "      <td>0.043</td>\n",
       "      <td>-99999.000</td>\n",
       "      <td>0000</td>\n",
       "      <td>0</td>\n",
       "      <td>AAAU</td>\n",
       "      <td>12.025</td>\n",
       "      <td>11.614</td>\n",
       "      <td>210.029674</td>\n",
       "      <td>-52.192088</td>\n",
       "    </tr>\n",
       "    <tr>\n",
       "      <th>6</th>\n",
       "      <td>209.993753</td>\n",
       "      <td>-52.047985</td>\n",
       "      <td>-99999.0</td>\n",
       "      <td>0</td>\n",
       "      <td>8</td>\n",
       "      <td>2.19</td>\n",
       "      <td>0.38</td>\n",
       "      <td>11.087</td>\n",
       "      <td>69</td>\n",
       "      <td>-5.254</td>\n",
       "      <td>...</td>\n",
       "      <td>0.020</td>\n",
       "      <td>0.045</td>\n",
       "      <td>-99999.000</td>\n",
       "      <td>hh00</td>\n",
       "      <td>0</td>\n",
       "      <td>AAAU</td>\n",
       "      <td>11.911</td>\n",
       "      <td>11.317</td>\n",
       "      <td>209.993741</td>\n",
       "      <td>-52.047963</td>\n",
       "    </tr>\n",
       "    <tr>\n",
       "      <th>7</th>\n",
       "      <td>210.629398</td>\n",
       "      <td>-52.738091</td>\n",
       "      <td>-99999.0</td>\n",
       "      <td>0</td>\n",
       "      <td>13</td>\n",
       "      <td>2.34</td>\n",
       "      <td>0.28</td>\n",
       "      <td>9.024</td>\n",
       "      <td>114</td>\n",
       "      <td>-9.176</td>\n",
       "      <td>...</td>\n",
       "      <td>0.020</td>\n",
       "      <td>0.021</td>\n",
       "      <td>0.267</td>\n",
       "      <td>0000</td>\n",
       "      <td>0</td>\n",
       "      <td>AAAB</td>\n",
       "      <td>9.475</td>\n",
       "      <td>9.135</td>\n",
       "      <td>210.629342</td>\n",
       "      <td>-52.738053</td>\n",
       "    </tr>\n",
       "    <tr>\n",
       "      <th>8</th>\n",
       "      <td>210.713112</td>\n",
       "      <td>-52.721031</td>\n",
       "      <td>-99999.0</td>\n",
       "      <td>0</td>\n",
       "      <td>11</td>\n",
       "      <td>1.62</td>\n",
       "      <td>0.33</td>\n",
       "      <td>9.736</td>\n",
       "      <td>95</td>\n",
       "      <td>-1.340</td>\n",
       "      <td>...</td>\n",
       "      <td>0.021</td>\n",
       "      <td>0.033</td>\n",
       "      <td>0.514</td>\n",
       "      <td>0000</td>\n",
       "      <td>0</td>\n",
       "      <td>AAAC</td>\n",
       "      <td>9.955</td>\n",
       "      <td>9.803</td>\n",
       "      <td>210.713076</td>\n",
       "      <td>-52.721026</td>\n",
       "    </tr>\n",
       "    <tr>\n",
       "      <th>9</th>\n",
       "      <td>210.794856</td>\n",
       "      <td>-52.650631</td>\n",
       "      <td>-99999.0</td>\n",
       "      <td>0</td>\n",
       "      <td>11</td>\n",
       "      <td>2.53</td>\n",
       "      <td>0.27</td>\n",
       "      <td>10.057</td>\n",
       "      <td>90</td>\n",
       "      <td>-0.032</td>\n",
       "      <td>...</td>\n",
       "      <td>0.020</td>\n",
       "      <td>0.023</td>\n",
       "      <td>0.314</td>\n",
       "      <td>0000</td>\n",
       "      <td>0</td>\n",
       "      <td>AAAB</td>\n",
       "      <td>11.013</td>\n",
       "      <td>10.415</td>\n",
       "      <td>210.794804</td>\n",
       "      <td>-52.650631</td>\n",
       "    </tr>\n",
       "  </tbody>\n",
       "</table>\n",
       "<p>10 rows × 39 columns</p>\n",
       "</div>"
      ],
      "text/plain": [
       "           ra        dec      hip  duplicated_source  matched_observations  \\\n",
       "0  210.007926 -52.321415 -99999.0                  0                    10   \n",
       "1  209.471668 -52.479936 -99999.0                  0                    11   \n",
       "2  209.504802 -52.456972 -99999.0                  0                    10   \n",
       "3  209.619712 -52.369962 -99999.0                  0                    10   \n",
       "4  209.656638 -52.336321 -99999.0                  0                    11   \n",
       "5  210.029672 -52.192119 -99999.0                  0                    12   \n",
       "6  209.993753 -52.047985 -99999.0                  0                     8   \n",
       "7  210.629398 -52.738091 -99999.0                  0                    13   \n",
       "8  210.713112 -52.721031 -99999.0                  0                    11   \n",
       "9  210.794856 -52.650631 -99999.0                  0                    11   \n",
       "\n",
       "   parallax  parallax_error  phot_g_mean_mag  phot_g_n_obs   pmdec    ...      \\\n",
       "0      0.62            0.45           11.530            85  -2.449    ...       \n",
       "1      1.66            0.42           11.541            92  -7.784    ...       \n",
       "2      3.05            0.49           11.460            85 -15.116    ...       \n",
       "3      2.74            0.68           10.976            83   1.688    ...       \n",
       "4      3.11            0.97           11.619            95  -3.120    ...       \n",
       "5      0.04            0.79           11.220           107  -7.316    ...       \n",
       "6      2.19            0.38           11.087            69  -5.254    ...       \n",
       "7      2.34            0.28            9.024           114  -9.176    ...       \n",
       "8      1.62            0.33            9.736            95  -1.340    ...       \n",
       "9      2.53            0.27           10.057            90  -0.032    ...       \n",
       "\n",
       "   e_W2mag  e_W3mag    e_W4mag  nameccf  nameex nameqph   BTmag   VTmag  \\\n",
       "0    0.022    0.084      0.483     0000       0    AAAC  11.961  11.736   \n",
       "1    0.020    0.041      0.342     0000       0    AAAB  12.626  11.998   \n",
       "2    0.020    0.050 -99999.000     dd00       0    AAAU  12.489  11.668   \n",
       "3    0.019    0.034 -99999.000     hh00       1    AAAU  11.717  11.125   \n",
       "4    0.020    0.053 -99999.000     hh00       0    AAAU  12.322  11.894   \n",
       "5    0.020    0.043 -99999.000     0000       0    AAAU  12.025  11.614   \n",
       "6    0.020    0.045 -99999.000     hh00       0    AAAU  11.911  11.317   \n",
       "7    0.020    0.021      0.267     0000       0    AAAB   9.475   9.135   \n",
       "8    0.021    0.033      0.514     0000       0    AAAC   9.955   9.803   \n",
       "9    0.020    0.023      0.314     0000       0    AAAB  11.013  10.415   \n",
       "\n",
       "       ra2000     de2000  \n",
       "0  210.007910 -52.321405  \n",
       "1  209.471612 -52.479904  \n",
       "2  209.504744 -52.456909  \n",
       "3  209.619724 -52.369969  \n",
       "4  209.656577 -52.336308  \n",
       "5  210.029674 -52.192088  \n",
       "6  209.993741 -52.047963  \n",
       "7  210.629342 -52.738053  \n",
       "8  210.713076 -52.721026  \n",
       "9  210.794804 -52.650631  \n",
       "\n",
       "[10 rows x 39 columns]"
      ]
     },
     "execution_count": 5,
     "metadata": {},
     "output_type": "execute_result"
    }
   ],
   "source": [
    "# a table with the 10 first lines\n",
    "data_all.head(10)"
   ]
  },
  {
   "cell_type": "code",
   "execution_count": 6,
   "metadata": {
    "collapsed": false
   },
   "outputs": [],
   "source": [
    "# a subset of the data: 1000 first lines and the two columns ('ra' and 'dec')\n",
    "data_sub = data_all.loc[1:1000,['ra', 'dec']]"
   ]
  },
  {
   "cell_type": "code",
   "execution_count": 7,
   "metadata": {
    "collapsed": false
   },
   "outputs": [
    {
     "data": {
      "text/plain": [
       "array([[ 209.47166763,  -52.47993629],\n",
       "       [ 209.50480217,  -52.45697236],\n",
       "       [ 209.61971174,  -52.36996178],\n",
       "       ..., \n",
       "       [ 216.20143098,  -49.17830793],\n",
       "       [ 216.12094181,  -49.2182501 ],\n",
       "       [ 215.66697789,  -49.39845297]])"
      ]
     },
     "execution_count": 7,
     "metadata": {},
     "output_type": "execute_result"
    }
   ],
   "source": [
    "# Just the values as an array and not a dataframe object\n",
    "data_sub.values"
   ]
  },
  {
   "cell_type": "code",
   "execution_count": 8,
   "metadata": {
    "collapsed": false
   },
   "outputs": [
    {
     "data": {
      "image/png": "[encoded data removed]",
      "text/plain": [
       "<matplotlib.figure.Figure at 0x139024780>"
      ]
     },
     "metadata": {},
     "output_type": "display_data"
    }
   ],
   "source": [
    "# Pandas has a method for direct plotting\n",
    "data_sub.plot('ra','dec', markersize=1, marker='.',linestyle='')\n",
    "plt.grid(True)\n",
    "plt.show()"
   ]
  },
  {
   "cell_type": "code",
   "execution_count": 9,
   "metadata": {
    "collapsed": false
   },
   "outputs": [],
   "source": [
    "# Converting the ecliptic coordinates to the Galactic ones\n",
    "data_subCoord = [SkyCoord(ra, dec, frame='icrs', unit='deg').galactic for ra, dec in data_sub.values]"
   ]
  },
  {
   "cell_type": "code",
   "execution_count": 10,
   "metadata": {
    "collapsed": true
   },
   "outputs": [],
   "source": [
    "# Some transformation functions for the Aitoff projection\n",
    "lPlot = lambda lb: lb.l.rad if lb.l.rad < np.pi else lb.l.rad-(2*np.pi)\n",
    "bPlot = lambda lb: lb.b.rad"
   ]
  },
  {
   "cell_type": "code",
   "execution_count": 11,
   "metadata": {
    "collapsed": false
   },
   "outputs": [
    {
     "data": {
      "image/png": "[encoded data removed]",
      "text/plain": [
       "<matplotlib.figure.Figure at 0x111a76dd8>"
      ]
     },
     "metadata": {},
     "output_type": "display_data"
    }
   ],
   "source": [
    "# So the final figure\n",
    "plt.figure(figsize=(8,4.2))\n",
    "plt.subplot(111, projection=\"aitoff\")\n",
    "plt.title(\"Aitoff\")\n",
    "plt.grid(True)\n",
    "plt.plot(list(map(lPlot, data_subCoord)),\n",
    "         list(map(bPlot, data_subCoord)), '.', markersize=1, alpha=1)\n",
    "plt.show()"
   ]
  },
  {
   "cell_type": "code",
   "execution_count": null,
   "metadata": {
    "collapsed": true
   },
   "outputs": [],
   "source": []
  }
 ],
 "metadata": {
  "kernelspec": {
   "display_name": "Python 3",
   "language": "python",
   "name": "python3"
  },
  "language_info": {
   "codemirror_mode": {
    "name": "ipython",
    "version": 3
   },
   "file_extension": ".py",
   "mimetype": "text/x-python",
   "name": "python",
   "nbconvert_exporter": "python",
   "pygments_lexer": "ipython3",
   "version": "3.6.3"
  }
 },
 "nbformat": 4,
 "nbformat_minor": 1
}
